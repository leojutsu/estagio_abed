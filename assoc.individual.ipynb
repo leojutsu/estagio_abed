{
 "cells": [
  {
   "cell_type": "code",
   "execution_count": 1,
   "id": "e8e281b8-3970-4d2e-9066-973e7ce7d427",
   "metadata": {},
   "outputs": [],
   "source": [
    "import pandas as pd\n",
    "import numpy as np\n",
    "import matplotlib.pyplot as plt\n",
    "import seaborn as sns\n",
    "import sys, os\n",
    "from datetime import datetime"
   ]
  },
  {
   "cell_type": "code",
   "execution_count": 2,
   "id": "3e9dca99-db87-4cda-99d3-80c21c4a1fce",
   "metadata": {},
   "outputs": [],
   "source": [
    "# Criando um lista para identificar possíveis valores ausentes\n",
    "valores_ausentes = [\"n/a\", \"na\", \"undefined\"]"
   ]
  },
  {
   "cell_type": "code",
   "execution_count": 3,
   "id": "b723b5bd-d0a4-4f10-9405-d203870798bd",
   "metadata": {},
   "outputs": [],
   "source": [
    "file = 'Relatório Associados Individuais.xls.csv'"
   ]
  },
  {
   "cell_type": "code",
   "execution_count": 4,
   "id": "6c38c904-a021-42b5-8ef8-97eb12b8122c",
   "metadata": {},
   "outputs": [],
   "source": [
    "# Três\n",
    "df = pd.read_csv(file, sep=None, engine='python', header=1, na_values= valores_ausentes)"
   ]
  },
  {
   "cell_type": "code",
   "execution_count": 5,
   "id": "eaddd2e5-dae0-4feb-8507-8bb05d9b968f",
   "metadata": {},
   "outputs": [
    {
     "data": {
      "text/html": [
       "<div>\n",
       "<style scoped>\n",
       "    .dataframe tbody tr th:only-of-type {\n",
       "        vertical-align: middle;\n",
       "    }\n",
       "\n",
       "    .dataframe tbody tr th {\n",
       "        vertical-align: top;\n",
       "    }\n",
       "\n",
       "    .dataframe thead th {\n",
       "        text-align: right;\n",
       "    }\n",
       "</style>\n",
       "<table border=\"1\" class=\"dataframe\">\n",
       "  <thead>\n",
       "    <tr style=\"text-align: right;\">\n",
       "      <th></th>\n",
       "      <th>ID</th>\n",
       "      <th>Categoria</th>\n",
       "      <th>Tipo</th>\n",
       "      <th>Razão Social</th>\n",
       "      <th>Nome Fantasia</th>\n",
       "      <th>Tratamento</th>\n",
       "      <th>Nome / Responsável</th>\n",
       "      <th>Documento</th>\n",
       "      <th>Documento 2</th>\n",
       "      <th>Documento 3</th>\n",
       "      <th>...</th>\n",
       "      <th>Pais</th>\n",
       "      <th>Telefone</th>\n",
       "      <th>Comercial</th>\n",
       "      <th>Celular</th>\n",
       "      <th>Whatsapp</th>\n",
       "      <th>Email</th>\n",
       "      <th>Email Responsável</th>\n",
       "      <th>Pagamento</th>\n",
       "      <th>Expiração</th>\n",
       "      <th>Status</th>\n",
       "    </tr>\n",
       "  </thead>\n",
       "  <tbody>\n",
       "    <tr>\n",
       "      <th>0</th>\n",
       "      <td>1</td>\n",
       "      <td>Individual</td>\n",
       "      <td>Física</td>\n",
       "      <td>-</td>\n",
       "      <td>-</td>\n",
       "      <td>NaN</td>\n",
       "      <td>Cadastro para Verificação</td>\n",
       "      <td>123.456.789-00</td>\n",
       "      <td>00.000.00.-5</td>\n",
       "      <td>NaN</td>\n",
       "      <td>...</td>\n",
       "      <td>Brasil</td>\n",
       "      <td>(11) 5063-0135</td>\n",
       "      <td>NaN</td>\n",
       "      <td>NaN</td>\n",
       "      <td>NaN</td>\n",
       "      <td>NaN</td>\n",
       "      <td>NaN</td>\n",
       "      <td>01/08/2024</td>\n",
       "      <td>01/08/2025</td>\n",
       "      <td>Ativo</td>\n",
       "    </tr>\n",
       "    <tr>\n",
       "      <th>1</th>\n",
       "      <td>21</td>\n",
       "      <td>Individual</td>\n",
       "      <td>Física</td>\n",
       "      <td>-</td>\n",
       "      <td>-</td>\n",
       "      <td>NaN</td>\n",
       "      <td>Márcia Aparecida Figueiredo</td>\n",
       "      <td>087.337.338-30</td>\n",
       "      <td>15.281.834</td>\n",
       "      <td>NaN</td>\n",
       "      <td>...</td>\n",
       "      <td>Brasil</td>\n",
       "      <td>(16) 3234-0918</td>\n",
       "      <td>NaN</td>\n",
       "      <td>(16) 99122-7646</td>\n",
       "      <td>NaN</td>\n",
       "      <td>marciaead@gmail.com</td>\n",
       "      <td>NaN</td>\n",
       "      <td>09/05/2025</td>\n",
       "      <td>08/05/2026</td>\n",
       "      <td>Ativo</td>\n",
       "    </tr>\n",
       "    <tr>\n",
       "      <th>2</th>\n",
       "      <td>172</td>\n",
       "      <td>Individual</td>\n",
       "      <td>Física</td>\n",
       "      <td>-</td>\n",
       "      <td>-</td>\n",
       "      <td>NaN</td>\n",
       "      <td>Mauro Cavalcante Pequeno</td>\n",
       "      <td>105.085.973-15</td>\n",
       "      <td>060105944-1</td>\n",
       "      <td>NaN</td>\n",
       "      <td>...</td>\n",
       "      <td>Brasil</td>\n",
       "      <td>(85) 3476-8702</td>\n",
       "      <td>(85) 3366-9457</td>\n",
       "      <td>(85) 98724-2263 / 999867039</td>\n",
       "      <td>(85) 3366-9457</td>\n",
       "      <td>mauro@virtual.ufc.br</td>\n",
       "      <td>mauro@virtual.ufc.br</td>\n",
       "      <td>11/07/2025</td>\n",
       "      <td>10/07/2026</td>\n",
       "      <td>Ativo</td>\n",
       "    </tr>\n",
       "    <tr>\n",
       "      <th>3</th>\n",
       "      <td>751</td>\n",
       "      <td>Individual</td>\n",
       "      <td>Física</td>\n",
       "      <td>-</td>\n",
       "      <td>-</td>\n",
       "      <td>NaN</td>\n",
       "      <td>Arnaldo Oliveira Souza Júnior</td>\n",
       "      <td>287.528.485-15</td>\n",
       "      <td>2.727.154-41</td>\n",
       "      <td>NaN</td>\n",
       "      <td>...</td>\n",
       "      <td>Brasil</td>\n",
       "      <td>(86) 3215-4101</td>\n",
       "      <td>NaN</td>\n",
       "      <td>(86) 9 9978-9580</td>\n",
       "      <td>NaN</td>\n",
       "      <td>arnaldo@ufpi.edu.br,arnaldojredu@yahoo.com.br</td>\n",
       "      <td>NaN</td>\n",
       "      <td>17/09/2024</td>\n",
       "      <td>16/09/2025</td>\n",
       "      <td>Ativo</td>\n",
       "    </tr>\n",
       "    <tr>\n",
       "      <th>4</th>\n",
       "      <td>784</td>\n",
       "      <td>Individual</td>\n",
       "      <td>Física</td>\n",
       "      <td>-</td>\n",
       "      <td>-</td>\n",
       "      <td>NaN</td>\n",
       "      <td>Rita Maria Lino Tarcia</td>\n",
       "      <td>047.431.368-90</td>\n",
       "      <td>13.031.371</td>\n",
       "      <td>NaN</td>\n",
       "      <td>...</td>\n",
       "      <td>Brasil</td>\n",
       "      <td>(11) 3209-7825</td>\n",
       "      <td>NaN</td>\n",
       "      <td>(11) 99932-9295</td>\n",
       "      <td>NaN</td>\n",
       "      <td>rtarcia@uol.com.br</td>\n",
       "      <td>NaN</td>\n",
       "      <td>16/12/2024</td>\n",
       "      <td>15/12/2025</td>\n",
       "      <td>Ativo</td>\n",
       "    </tr>\n",
       "  </tbody>\n",
       "</table>\n",
       "<p>5 rows × 35 columns</p>\n",
       "</div>"
      ],
      "text/plain": [
       "    ID   Categoria    Tipo Razão Social Nome Fantasia Tratamento  \\\n",
       "0    1  Individual  Física            -             -        NaN   \n",
       "1   21  Individual  Física            -             -        NaN   \n",
       "2  172  Individual  Física            -             -        NaN   \n",
       "3  751  Individual  Física            -             -        NaN   \n",
       "4  784  Individual  Física            -             -        NaN   \n",
       "\n",
       "              Nome / Responsável       Documento   Documento 2  Documento 3  \\\n",
       "0      Cadastro para Verificação  123.456.789-00  00.000.00.-5          NaN   \n",
       "1    Márcia Aparecida Figueiredo  087.337.338-30    15.281.834          NaN   \n",
       "2       Mauro Cavalcante Pequeno  105.085.973-15   060105944-1          NaN   \n",
       "3  Arnaldo Oliveira Souza Júnior  287.528.485-15  2.727.154-41          NaN   \n",
       "4         Rita Maria Lino Tarcia  047.431.368-90    13.031.371          NaN   \n",
       "\n",
       "   ...    Pais        Telefone       Comercial                      Celular  \\\n",
       "0  ...  Brasil  (11) 5063-0135             NaN                          NaN   \n",
       "1  ...  Brasil  (16) 3234-0918             NaN              (16) 99122-7646   \n",
       "2  ...  Brasil  (85) 3476-8702  (85) 3366-9457  (85) 98724-2263 / 999867039   \n",
       "3  ...  Brasil  (86) 3215-4101             NaN             (86) 9 9978-9580   \n",
       "4  ...  Brasil  (11) 3209-7825             NaN              (11) 99932-9295   \n",
       "\n",
       "         Whatsapp                                          Email  \\\n",
       "0             NaN                                            NaN   \n",
       "1             NaN                            marciaead@gmail.com   \n",
       "2  (85) 3366-9457                           mauro@virtual.ufc.br   \n",
       "3             NaN  arnaldo@ufpi.edu.br,arnaldojredu@yahoo.com.br   \n",
       "4             NaN                             rtarcia@uol.com.br   \n",
       "\n",
       "      Email Responsável   Pagamento   Expiração Status  \n",
       "0                   NaN  01/08/2024  01/08/2025  Ativo  \n",
       "1                   NaN  09/05/2025  08/05/2026  Ativo  \n",
       "2  mauro@virtual.ufc.br  11/07/2025  10/07/2026  Ativo  \n",
       "3                   NaN  17/09/2024  16/09/2025  Ativo  \n",
       "4                   NaN  16/12/2024  15/12/2025  Ativo  \n",
       "\n",
       "[5 rows x 35 columns]"
      ]
     },
     "execution_count": 5,
     "metadata": {},
     "output_type": "execute_result"
    }
   ],
   "source": [
    "df.head()"
   ]
  },
  {
   "cell_type": "code",
   "execution_count": 6,
   "id": "1acd70b6-f80a-4c26-b263-03ff769b2637",
   "metadata": {},
   "outputs": [],
   "source": [
    "# Alterando os parâmetros do Pandas para aumentar o número de colunas exibidas\n",
    "pd.set_option('display.max_columns', 100)"
   ]
  },
  {
   "cell_type": "code",
   "execution_count": 7,
   "id": "b8be3e2e-cc6d-4208-bf64-5bee3b50938e",
   "metadata": {},
   "outputs": [],
   "source": [
    "# Alterar os parâmetros do Pandas para aumentar o número de caractéres exibidos em cada célula\n",
    "pd.set_option('display.max_colwidth', 100)"
   ]
  },
  {
   "cell_type": "code",
   "execution_count": 8,
   "id": "0030315a-10a2-4b3d-886b-d907ae1ca9bd",
   "metadata": {},
   "outputs": [
    {
     "data": {
      "text/plain": [
       "(396, 35)"
      ]
     },
     "execution_count": 8,
     "metadata": {},
     "output_type": "execute_result"
    }
   ],
   "source": [
    "df.shape"
   ]
  },
  {
   "cell_type": "code",
   "execution_count": 9,
   "id": "1c112592-3080-4962-b9c2-019f4d2b2bfd",
   "metadata": {},
   "outputs": [],
   "source": [
    "# Calculando valores ausentes no df\n",
    "def perc_valores_ausentes(df):\n",
    "    # calcular o tatoal de células do df\n",
    "    total_cells = np.prod(df.shape)\n",
    "    # contar o número de valores ausentes por coluna\n",
    "    missing_count = df.isnull().sum()\n",
    "    # calcular o tatal de valores ausentes\n",
    "    totalMissing = missing_count.sum()\n",
    "    # calculando o percentual de valores ausentes\n",
    "    print(\"O dataset tem\", round(((totalMissing / total_cells) * 100), 2), \"%\", \"de valores ausentes\")"
   ]
  },
  {
   "cell_type": "code",
   "execution_count": 10,
   "id": "8a9ca30c-cb8a-44d5-bb04-f216cffd1dea",
   "metadata": {},
   "outputs": [
    {
     "name": "stdout",
     "output_type": "stream",
     "text": [
      "O dataset tem 12.16 % de valores ausentes\n"
     ]
    }
   ],
   "source": [
    "# Chamando a função para descobrir a porcentagem de valores ausentes no df\n",
    "perc_valores_ausentes(df)"
   ]
  },
  {
   "cell_type": "code",
   "execution_count": 11,
   "id": "49b56a92-1316-4e7f-a161-903e09fcc448",
   "metadata": {},
   "outputs": [],
   "source": [
    "# Função para calcular o percentual de valores ausentes por coluna\n",
    "def perc_valores_ausentes_cols(df):\n",
    "    # total de valores ausentes\n",
    "    mis_val = df.isnull().sum()\n",
    "    # percentual de valores ausentes\n",
    "    mis_val_percent = 100 * mis_val / len(df)\n",
    "    # tipo de dados das colunas com valores ausentes\n",
    "    mis_val_dtypes = df.dtypes\n",
    "    # criando uma tabela com os resultados\n",
    "    mis_val_table = pd.concat([mis_val, mis_val_percent, mis_val_dtypes], axis=1)\n",
    "    # renomeando as colunas\n",
    "    mis_val_table_ren_columns = mis_val_table.rename(columns = {0: 'Valores Ausentes', 1: '% de Valores Ausentes', 2: 'Dtypes'})\n",
    "    # classificando a tabela por porcentagem de valores ausentes de forma decrescente e remove colunas sem valores ausentes\n",
    "    mis_val_table_ren_columns = mis_val_table_ren_columns[mis_val_table_ren_columns.iloc[:,0] != 0].sort_values('% de Valores Ausentes', ascending = False).round(2)\n",
    "\n",
    "    print(\"O dataset tem \" + str(df.shape[1]) + \" colunas.\\n\"\n",
    "         \"Encontrado: \" + str(mis_val_table_ren_columns.shape[0]) + \" colunas que têm valores ausentes.\")\n",
    "    if mis_val_table_ren_columns.shape[0] == 0:\n",
    "        return\n",
    "    # retorna o df com informações ausentes\n",
    "    return mis_val_table_ren_columns"
   ]
  },
  {
   "cell_type": "code",
   "execution_count": 12,
   "id": "9168b6d1-996f-408f-ac2b-f76659fd4f92",
   "metadata": {},
   "outputs": [
    {
     "name": "stdout",
     "output_type": "stream",
     "text": [
      "O dataset tem 35 colunas.\n",
      "Encontrado: 20 colunas que têm valores ausentes.\n"
     ]
    }
   ],
   "source": [
    "df_missing = perc_valores_ausentes_cols(df)"
   ]
  },
  {
   "cell_type": "code",
   "execution_count": 13,
   "id": "bf3eda17-cf71-4774-bb4a-2425ffa07c54",
   "metadata": {},
   "outputs": [],
   "source": [
    "# Criando uma nova coluna com 'Data_Nascimento' com o tipo com o método do Pandas pd.to_datetime()\n",
    "df['Data_Nascimento'] = pd.to_datetime(df['Nascimento'], format='%d/%m/%Y', errors='coerce')"
   ]
  },
  {
   "cell_type": "code",
   "execution_count": 14,
   "id": "ea217321-d146-4da5-91a4-54f68fc0b503",
   "metadata": {},
   "outputs": [],
   "source": [
    "# Obtendo a data atual\n",
    "data_atual = pd.to_datetime(datetime.now().date())"
   ]
  },
  {
   "cell_type": "code",
   "execution_count": 15,
   "id": "510e602d-e469-4e7a-a5f8-99356dc350a8",
   "metadata": {},
   "outputs": [
    {
     "name": "stdout",
     "output_type": "stream",
     "text": [
      "Data Atual para calculo: 22/07/2025\n",
      "\n"
     ]
    }
   ],
   "source": [
    "print(f\"Data Atual para calculo: {data_atual.strftime('%d/%m/%Y')}\\n\")"
   ]
  },
  {
   "cell_type": "code",
   "execution_count": 16,
   "id": "7346bf42-bd8f-4bec-91af-51fbe7fa1f96",
   "metadata": {},
   "outputs": [],
   "source": [
    "# Calculando a idade\n",
    "# Considerando o dia o mês e o ano do aniversário.\n",
    "df['Idade_Atual'] = data_atual.year -df['Data_Nascimento'].dt.year"
   ]
  },
  {
   "cell_type": "code",
   "execution_count": 17,
   "id": "1fba7a1c-3e51-4f5f-b83d-b5972c140d52",
   "metadata": {},
   "outputs": [],
   "source": [
    "# Ajustar a idade para quem inda não fez aniversário na data corrente\n",
    "nao_fez_aniver = ((data_atual.month < df['Data_Nascimento'].dt.month) | ((data_atual.month == df['Data_Nascimento'].dt.month) &\n",
    "                                                                           (data_atual.day < df['Data_Nascimento'].dt.day)))"
   ]
  },
  {
   "cell_type": "code",
   "execution_count": 18,
   "id": "3bd8d3ee-918c-4329-b4c3-88ab99cf0423",
   "metadata": {},
   "outputs": [],
   "source": [
    "df.loc[nao_fez_aniver, 'Idade_Atual'] -= 1"
   ]
  },
  {
   "cell_type": "code",
   "execution_count": 19,
   "id": "417d589d-841a-4052-9b39-2d97299ee036",
   "metadata": {},
   "outputs": [],
   "source": [
    "# Lidando com NaT (data de nascimento inválida)\n",
    "df['Idade_Atual'] = df['Idade_Atual'].fillna(0).astype('Int64')"
   ]
  },
  {
   "cell_type": "code",
   "execution_count": 37,
   "id": "bb93f304-3869-4e9b-8adc-dad8cf5dcb33",
   "metadata": {},
   "outputs": [
    {
     "data": {
      "text/plain": [
       "<Axes: xlabel='Idade_Atual', ylabel='Count'>"
      ]
     },
     "execution_count": 37,
     "metadata": {},
     "output_type": "execute_result"
    },
    {
     "data": {
      "image/png": "[encoded data removed]",
      "text/plain": [
       "<Figure size 1000x600 with 1 Axes>"
      ]
     },
     "metadata": {},
     "output_type": "display_data"
    }
   ],
   "source": [
    "plt.figure(figsize=(10,6))\n",
    "sns.set_style(\"whitegrid\")\n",
    "\n",
    "sns.histplot(data=df, x='Idade_Atual', bins=bins_personalizados, kde=False, edgecolor='black', color='skyblue')\n"
   ]
  },
  {
   "cell_type": "code",
   "execution_count": 38,
   "id": "14287534-a592-4fe4-8eee-1453933d99f4",
   "metadata": {},
   "outputs": [
    {
     "data": {
      "text/html": [
       "<div>\n",
       "<style scoped>\n",
       "    .dataframe tbody tr th:only-of-type {\n",
       "        vertical-align: middle;\n",
       "    }\n",
       "\n",
       "    .dataframe tbody tr th {\n",
       "        vertical-align: top;\n",
       "    }\n",
       "\n",
       "    .dataframe thead th {\n",
       "        text-align: right;\n",
       "    }\n",
       "</style>\n",
       "<table border=\"1\" class=\"dataframe\">\n",
       "  <thead>\n",
       "    <tr style=\"text-align: right;\">\n",
       "      <th></th>\n",
       "      <th>ID</th>\n",
       "      <th>Documento 3</th>\n",
       "      <th>Data_Nascimento</th>\n",
       "      <th>Idade_Atual</th>\n",
       "    </tr>\n",
       "  </thead>\n",
       "  <tbody>\n",
       "    <tr>\n",
       "      <th>count</th>\n",
       "      <td>396.000000</td>\n",
       "      <td>0.0</td>\n",
       "      <td>388</td>\n",
       "      <td>396.0</td>\n",
       "    </tr>\n",
       "    <tr>\n",
       "      <th>mean</th>\n",
       "      <td>16115.414141</td>\n",
       "      <td>NaN</td>\n",
       "      <td>1975-11-17 09:27:50.103092768</td>\n",
       "      <td>48.189394</td>\n",
       "    </tr>\n",
       "    <tr>\n",
       "      <th>min</th>\n",
       "      <td>1.000000</td>\n",
       "      <td>NaN</td>\n",
       "      <td>1910-12-30 00:00:00</td>\n",
       "      <td>-36.0</td>\n",
       "    </tr>\n",
       "    <tr>\n",
       "      <th>25%</th>\n",
       "      <td>14069.250000</td>\n",
       "      <td>NaN</td>\n",
       "      <td>1966-11-23 18:00:00</td>\n",
       "      <td>41.0</td>\n",
       "    </tr>\n",
       "    <tr>\n",
       "      <th>50%</th>\n",
       "      <td>19878.500000</td>\n",
       "      <td>NaN</td>\n",
       "      <td>1976-09-25 12:00:00</td>\n",
       "      <td>48.0</td>\n",
       "    </tr>\n",
       "    <tr>\n",
       "      <th>75%</th>\n",
       "      <td>20572.250000</td>\n",
       "      <td>NaN</td>\n",
       "      <td>1983-01-29 18:00:00</td>\n",
       "      <td>58.0</td>\n",
       "    </tr>\n",
       "    <tr>\n",
       "      <th>max</th>\n",
       "      <td>20841.000000</td>\n",
       "      <td>NaN</td>\n",
       "      <td>2061-01-02 00:00:00</td>\n",
       "      <td>114.0</td>\n",
       "    </tr>\n",
       "    <tr>\n",
       "      <th>std</th>\n",
       "      <td>6188.867939</td>\n",
       "      <td>NaN</td>\n",
       "      <td>NaN</td>\n",
       "      <td>14.992555</td>\n",
       "    </tr>\n",
       "  </tbody>\n",
       "</table>\n",
       "</div>"
      ],
      "text/plain": [
       "                 ID  Documento 3                Data_Nascimento  Idade_Atual\n",
       "count    396.000000          0.0                            388        396.0\n",
       "mean   16115.414141          NaN  1975-11-17 09:27:50.103092768    48.189394\n",
       "min        1.000000          NaN            1910-12-30 00:00:00        -36.0\n",
       "25%    14069.250000          NaN            1966-11-23 18:00:00         41.0\n",
       "50%    19878.500000          NaN            1976-09-25 12:00:00         48.0\n",
       "75%    20572.250000          NaN            1983-01-29 18:00:00         58.0\n",
       "max    20841.000000          NaN            2061-01-02 00:00:00        114.0\n",
       "std     6188.867939          NaN                            NaN    14.992555"
      ]
     },
     "execution_count": 38,
     "metadata": {},
     "output_type": "execute_result"
    }
   ],
   "source": [
    "df.describe()"
   ]
  },
  {
   "cell_type": "code",
   "execution_count": 22,
   "id": "609b7b28-28fb-4db2-8c84-e8bb97bd3562",
   "metadata": {},
   "outputs": [],
   "source": [
    "bins_personalizados = list(range(20, 90, 5))"
   ]
  },
  {
   "cell_type": "code",
   "execution_count": 23,
   "id": "18e87eaf-b140-4927-94f9-22549531bac5",
   "metadata": {},
   "outputs": [],
   "source": [
    "#bins_personalizados.append(df_l['Idade_Atual'].max() + 1 if not df_l['Idade_Atual'].empty and df_l['Idade_Atual'].max() >= bins_personalizados[-1] else bins_personalizados[-1])"
   ]
  },
  {
   "cell_type": "code",
   "execution_count": 24,
   "id": "bd00430e-f95f-471b-ad2c-ad32888d01cf",
   "metadata": {},
   "outputs": [
    {
     "name": "stdout",
     "output_type": "stream",
     "text": [
      "Bins personalizados definidos: [20, 25, 30, 35, 40, 45, 50, 55, 60, 65, 70, 75, 80, 85]\n"
     ]
    }
   ],
   "source": [
    "print(f\"Bins personalizados definidos: {bins_personalizados}\")"
   ]
  },
  {
   "cell_type": "code",
   "execution_count": 25,
   "id": "1f89c2b9-7cce-42b6-a20e-611fa519b3be",
   "metadata": {},
   "outputs": [],
   "source": [
    "outliers = df[df['Idade_Atual'] > 80]"
   ]
  },
  {
   "cell_type": "code",
   "execution_count": 26,
   "id": "add3b24b-7dec-4ac3-88d7-9601960c11f4",
   "metadata": {},
   "outputs": [
    {
     "data": {
      "text/html": [
       "<div>\n",
       "<style scoped>\n",
       "    .dataframe tbody tr th:only-of-type {\n",
       "        vertical-align: middle;\n",
       "    }\n",
       "\n",
       "    .dataframe tbody tr th {\n",
       "        vertical-align: top;\n",
       "    }\n",
       "\n",
       "    .dataframe thead th {\n",
       "        text-align: right;\n",
       "    }\n",
       "</style>\n",
       "<table border=\"1\" class=\"dataframe\">\n",
       "  <thead>\n",
       "    <tr style=\"text-align: right;\">\n",
       "      <th></th>\n",
       "      <th>ID</th>\n",
       "      <th>Categoria</th>\n",
       "      <th>Tipo</th>\n",
       "      <th>Razão Social</th>\n",
       "      <th>Nome Fantasia</th>\n",
       "      <th>Tratamento</th>\n",
       "      <th>Nome / Responsável</th>\n",
       "      <th>Documento</th>\n",
       "      <th>Documento 2</th>\n",
       "      <th>Documento 3</th>\n",
       "      <th>Nascimento</th>\n",
       "      <th>Cidade Nasc.</th>\n",
       "      <th>UF Nasc.</th>\n",
       "      <th>Pais Nasc.</th>\n",
       "      <th>Cargo</th>\n",
       "      <th>Departamento</th>\n",
       "      <th>Formacao</th>\n",
       "      <th>Instituição</th>\n",
       "      <th>Logradouro</th>\n",
       "      <th>Numero</th>\n",
       "      <th>Complemento</th>\n",
       "      <th>Bairro</th>\n",
       "      <th>Cidade</th>\n",
       "      <th>UF</th>\n",
       "      <th>CEP</th>\n",
       "      <th>Pais</th>\n",
       "      <th>Telefone</th>\n",
       "      <th>Comercial</th>\n",
       "      <th>Celular</th>\n",
       "      <th>Whatsapp</th>\n",
       "      <th>Email</th>\n",
       "      <th>Email Responsável</th>\n",
       "      <th>Pagamento</th>\n",
       "      <th>Expiração</th>\n",
       "      <th>Status</th>\n",
       "      <th>Data_Nascimento</th>\n",
       "      <th>Idade_Atual</th>\n",
       "    </tr>\n",
       "  </thead>\n",
       "  <tbody>\n",
       "    <tr>\n",
       "      <th>8</th>\n",
       "      <td>1268</td>\n",
       "      <td>Individual</td>\n",
       "      <td>Física</td>\n",
       "      <td>-</td>\n",
       "      <td>-</td>\n",
       "      <td>NaN</td>\n",
       "      <td>Alexander J. Romiszowski</td>\n",
       "      <td>101.070.535-00</td>\n",
       "      <td>W647021-5</td>\n",
       "      <td>NaN</td>\n",
       "      <td>18/05/1939</td>\n",
       "      <td>NaN</td>\n",
       "      <td>RJ</td>\n",
       "      <td>Brasil</td>\n",
       "      <td>-</td>\n",
       "      <td>-</td>\n",
       "      <td>Doutorado em Tecnologia Educacional</td>\n",
       "      <td>Syracuse University (Estados Unidos) e TTS-Global (Rio de Janeiro).</td>\n",
       "      <td>Rua Almirante Salgado</td>\n",
       "      <td>188</td>\n",
       "      <td>NaN</td>\n",
       "      <td>Laranjeiras</td>\n",
       "      <td>RIO DE JANEIRO</td>\n",
       "      <td>RJ</td>\n",
       "      <td>22240-170</td>\n",
       "      <td>Brasil</td>\n",
       "      <td>21 2556 5666</td>\n",
       "      <td>21 25568281</td>\n",
       "      <td>(21) 99359-6643</td>\n",
       "      <td>NaN</td>\n",
       "      <td>ajromisz@syr.edu</td>\n",
       "      <td>NaN</td>\n",
       "      <td>13/12/2024</td>\n",
       "      <td>12/12/2025</td>\n",
       "      <td>Ativo</td>\n",
       "      <td>1939-05-18</td>\n",
       "      <td>86</td>\n",
       "    </tr>\n",
       "    <tr>\n",
       "      <th>79</th>\n",
       "      <td>10516</td>\n",
       "      <td>Individual</td>\n",
       "      <td>Física</td>\n",
       "      <td>-</td>\n",
       "      <td>-</td>\n",
       "      <td>NaN</td>\n",
       "      <td>Eniel do Espírito Santo</td>\n",
       "      <td>093.578.788-74</td>\n",
       "      <td>172723589</td>\n",
       "      <td>NaN</td>\n",
       "      <td>30/12/1910</td>\n",
       "      <td>Santo André</td>\n",
       "      <td>SP</td>\n",
       "      <td>NaN</td>\n",
       "      <td>-</td>\n",
       "      <td>-</td>\n",
       "      <td>Doutor em Educação, Mestre em Gestão Integrada de Organizações, Especialista em Psicologia Organ...</td>\n",
       "      <td>Universidade Federal do Reconcavo da Bahia</td>\n",
       "      <td>Rua Prof. Cassilandro Barbuda</td>\n",
       "      <td>939</td>\n",
       "      <td>Ap 801</td>\n",
       "      <td>Costa Azul</td>\n",
       "      <td>Salvador</td>\n",
       "      <td>BA</td>\n",
       "      <td>41760-110</td>\n",
       "      <td>Brasil</td>\n",
       "      <td>(71) 33671283</td>\n",
       "      <td>NaN</td>\n",
       "      <td>(71) 999572020</td>\n",
       "      <td>NaN</td>\n",
       "      <td>enielsanto@gmail.com;eniel@ufrb.edu.br</td>\n",
       "      <td>NaN</td>\n",
       "      <td>08/10/2024</td>\n",
       "      <td>07/10/2025</td>\n",
       "      <td>Ativo</td>\n",
       "      <td>1910-12-30</td>\n",
       "      <td>114</td>\n",
       "    </tr>\n",
       "  </tbody>\n",
       "</table>\n",
       "</div>"
      ],
      "text/plain": [
       "       ID   Categoria    Tipo Razão Social Nome Fantasia Tratamento  \\\n",
       "8    1268  Individual  Física            -             -        NaN   \n",
       "79  10516  Individual  Física            -             -        NaN   \n",
       "\n",
       "          Nome / Responsável       Documento Documento 2  Documento 3  \\\n",
       "8   Alexander J. Romiszowski  101.070.535-00   W647021-5          NaN   \n",
       "79   Eniel do Espírito Santo  093.578.788-74   172723589          NaN   \n",
       "\n",
       "    Nascimento Cidade Nasc. UF Nasc. Pais Nasc. Cargo Departamento  \\\n",
       "8   18/05/1939          NaN       RJ     Brasil     -            -   \n",
       "79  30/12/1910  Santo André       SP        NaN     -            -   \n",
       "\n",
       "                                                                                               Formacao  \\\n",
       "8                                                                   Doutorado em Tecnologia Educacional   \n",
       "79  Doutor em Educação, Mestre em Gestão Integrada de Organizações, Especialista em Psicologia Organ...   \n",
       "\n",
       "                                                            Instituição  \\\n",
       "8   Syracuse University (Estados Unidos) e TTS-Global (Rio de Janeiro).   \n",
       "79                           Universidade Federal do Reconcavo da Bahia   \n",
       "\n",
       "                       Logradouro Numero Complemento       Bairro  \\\n",
       "8           Rua Almirante Salgado    188         NaN  Laranjeiras   \n",
       "79  Rua Prof. Cassilandro Barbuda    939      Ap 801   Costa Azul   \n",
       "\n",
       "            Cidade  UF        CEP    Pais       Telefone    Comercial  \\\n",
       "8   RIO DE JANEIRO  RJ  22240-170  Brasil   21 2556 5666  21 25568281   \n",
       "79        Salvador  BA  41760-110  Brasil  (71) 33671283          NaN   \n",
       "\n",
       "            Celular Whatsapp                                   Email  \\\n",
       "8   (21) 99359-6643      NaN                        ajromisz@syr.edu   \n",
       "79   (71) 999572020      NaN  enielsanto@gmail.com;eniel@ufrb.edu.br   \n",
       "\n",
       "   Email Responsável   Pagamento   Expiração Status Data_Nascimento  \\\n",
       "8                NaN  13/12/2024  12/12/2025  Ativo      1939-05-18   \n",
       "79               NaN  08/10/2024  07/10/2025  Ativo      1910-12-30   \n",
       "\n",
       "    Idade_Atual  \n",
       "8            86  \n",
       "79          114  "
      ]
     },
     "execution_count": 26,
     "metadata": {},
     "output_type": "execute_result"
    }
   ],
   "source": [
    "outliers"
   ]
  },
  {
   "cell_type": "code",
   "execution_count": 28,
   "id": "dbedfddc-5aad-4ddf-b107-af21f15a09d2",
   "metadata": {},
   "outputs": [],
   "source": [
    "# Criando um lista com os registros das linhas abaixo de 18 anos.\n",
    "menor = df[df['Idade_Atual'] < 18].index.tolist()"
   ]
  },
  {
   "cell_type": "code",
   "execution_count": 30,
   "id": "0996bedb-06e2-4d8d-bb2e-ed5394bc91ba",
   "metadata": {},
   "outputs": [],
   "source": [
    "# Criando um lista com os índices dos registros acima de 86 anos.\n",
    "maior = df[df['Idade_Atual'] > 86].index.tolist()"
   ]
  },
  {
   "cell_type": "code",
   "execution_count": 51,
   "id": "c5646dbc-b772-4299-b889-e0e7d0b3d485",
   "metadata": {},
   "outputs": [],
   "source": [
    "# Unindo as duas listas de indices com valores abaixo de 18 e acima de 86.\n",
    "menor.extend(maior)"
   ]
  },
  {
   "cell_type": "code",
   "execution_count": 54,
   "id": "0e2a1f7a-c9ed-488f-8ba2-3dfb80f87041",
   "metadata": {},
   "outputs": [
    {
     "data": {
      "text/plain": [
       "[72, 168, 184, 193, 201, 211, 272, 290, 298, 358, 359, 79]"
      ]
     },
     "execution_count": 54,
     "metadata": {},
     "output_type": "execute_result"
    }
   ],
   "source": [
    "# Visualizando a lista\n",
    "menor"
   ]
  },
  {
   "cell_type": "code",
   "execution_count": 55,
   "id": "55bbca70-9d3b-4c1a-a462-b55d941b1ce3",
   "metadata": {},
   "outputs": [],
   "source": [
    "# Criando um novo df 'df_l' apenas com idades entre 18 e 86 anos.\n",
    "#df_l = df.drop(menor, axis=0)"
   ]
  },
  {
   "cell_type": "code",
   "execution_count": 58,
   "id": "2378e78f-83a7-4d3f-af62-922e3ef1302f",
   "metadata": {},
   "outputs": [],
   "source": [
    "# Uma forma mais 'Pythonica' de criar o df_l panas com as idades entre 18 e 86 anos:\n",
    "idade_minima = 18\n",
    "idade_maxima = 86\n",
    "\n",
    "df_l = df[\n",
    "(df['Idade_Atual'] >= idade_minima) &\n",
    "(df['Idade_Atual'] <= idade_maxima)\n",
    "].copy() # Usando o .copy() para garantir que o df_l seja em DataFrame independente"
   ]
  },
  {
   "cell_type": "code",
   "execution_count": 59,
   "id": "86e88922-6038-4d36-9883-e910a9f23b45",
   "metadata": {},
   "outputs": [
    {
     "data": {
      "text/html": [
       "<div>\n",
       "<style scoped>\n",
       "    .dataframe tbody tr th:only-of-type {\n",
       "        vertical-align: middle;\n",
       "    }\n",
       "\n",
       "    .dataframe tbody tr th {\n",
       "        vertical-align: top;\n",
       "    }\n",
       "\n",
       "    .dataframe thead th {\n",
       "        text-align: right;\n",
       "    }\n",
       "</style>\n",
       "<table border=\"1\" class=\"dataframe\">\n",
       "  <thead>\n",
       "    <tr style=\"text-align: right;\">\n",
       "      <th></th>\n",
       "      <th>ID</th>\n",
       "      <th>Categoria</th>\n",
       "      <th>Tipo</th>\n",
       "      <th>Razão Social</th>\n",
       "      <th>Nome Fantasia</th>\n",
       "      <th>Tratamento</th>\n",
       "      <th>Nome / Responsável</th>\n",
       "      <th>Documento</th>\n",
       "      <th>Documento 2</th>\n",
       "      <th>Documento 3</th>\n",
       "      <th>Nascimento</th>\n",
       "      <th>Cidade Nasc.</th>\n",
       "      <th>UF Nasc.</th>\n",
       "      <th>Pais Nasc.</th>\n",
       "      <th>Cargo</th>\n",
       "      <th>Departamento</th>\n",
       "      <th>Formacao</th>\n",
       "      <th>Instituição</th>\n",
       "      <th>Logradouro</th>\n",
       "      <th>Numero</th>\n",
       "      <th>Complemento</th>\n",
       "      <th>Bairro</th>\n",
       "      <th>Cidade</th>\n",
       "      <th>UF</th>\n",
       "      <th>CEP</th>\n",
       "      <th>Pais</th>\n",
       "      <th>Telefone</th>\n",
       "      <th>Comercial</th>\n",
       "      <th>Celular</th>\n",
       "      <th>Whatsapp</th>\n",
       "      <th>Email</th>\n",
       "      <th>Email Responsável</th>\n",
       "      <th>Pagamento</th>\n",
       "      <th>Expiração</th>\n",
       "      <th>Status</th>\n",
       "      <th>Data_Nascimento</th>\n",
       "      <th>Idade_Atual</th>\n",
       "    </tr>\n",
       "  </thead>\n",
       "  <tbody>\n",
       "    <tr>\n",
       "      <th>8</th>\n",
       "      <td>1268</td>\n",
       "      <td>Individual</td>\n",
       "      <td>Física</td>\n",
       "      <td>-</td>\n",
       "      <td>-</td>\n",
       "      <td>NaN</td>\n",
       "      <td>Alexander J. Romiszowski</td>\n",
       "      <td>101.070.535-00</td>\n",
       "      <td>W647021-5</td>\n",
       "      <td>NaN</td>\n",
       "      <td>18/05/1939</td>\n",
       "      <td>NaN</td>\n",
       "      <td>RJ</td>\n",
       "      <td>Brasil</td>\n",
       "      <td>-</td>\n",
       "      <td>-</td>\n",
       "      <td>Doutorado em Tecnologia Educacional</td>\n",
       "      <td>Syracuse University (Estados Unidos) e TTS-Global (Rio de Janeiro).</td>\n",
       "      <td>Rua Almirante Salgado</td>\n",
       "      <td>188</td>\n",
       "      <td>NaN</td>\n",
       "      <td>Laranjeiras</td>\n",
       "      <td>RIO DE JANEIRO</td>\n",
       "      <td>RJ</td>\n",
       "      <td>22240-170</td>\n",
       "      <td>Brasil</td>\n",
       "      <td>21 2556 5666</td>\n",
       "      <td>21 25568281</td>\n",
       "      <td>(21) 99359-6643</td>\n",
       "      <td>NaN</td>\n",
       "      <td>ajromisz@syr.edu</td>\n",
       "      <td>NaN</td>\n",
       "      <td>13/12/2024</td>\n",
       "      <td>12/12/2025</td>\n",
       "      <td>Ativo</td>\n",
       "      <td>1939-05-18</td>\n",
       "      <td>86</td>\n",
       "    </tr>\n",
       "  </tbody>\n",
       "</table>\n",
       "</div>"
      ],
      "text/plain": [
       "     ID   Categoria    Tipo Razão Social Nome Fantasia Tratamento  \\\n",
       "8  1268  Individual  Física            -             -        NaN   \n",
       "\n",
       "         Nome / Responsável       Documento Documento 2  Documento 3  \\\n",
       "8  Alexander J. Romiszowski  101.070.535-00   W647021-5          NaN   \n",
       "\n",
       "   Nascimento Cidade Nasc. UF Nasc. Pais Nasc. Cargo Departamento  \\\n",
       "8  18/05/1939          NaN       RJ     Brasil     -            -   \n",
       "\n",
       "                              Formacao  \\\n",
       "8  Doutorado em Tecnologia Educacional   \n",
       "\n",
       "                                                           Instituição  \\\n",
       "8  Syracuse University (Estados Unidos) e TTS-Global (Rio de Janeiro).   \n",
       "\n",
       "              Logradouro Numero Complemento       Bairro          Cidade  UF  \\\n",
       "8  Rua Almirante Salgado    188         NaN  Laranjeiras  RIO DE JANEIRO  RJ   \n",
       "\n",
       "         CEP    Pais      Telefone    Comercial          Celular Whatsapp  \\\n",
       "8  22240-170  Brasil  21 2556 5666  21 25568281  (21) 99359-6643      NaN   \n",
       "\n",
       "              Email Email Responsável   Pagamento   Expiração Status  \\\n",
       "8  ajromisz@syr.edu               NaN  13/12/2024  12/12/2025  Ativo   \n",
       "\n",
       "  Data_Nascimento  Idade_Atual  \n",
       "8      1939-05-18           86  "
      ]
     },
     "execution_count": 59,
     "metadata": {},
     "output_type": "execute_result"
    }
   ],
   "source": [
    "df_l[df_l['Idade_Atual'] > 80]"
   ]
  },
  {
   "cell_type": "code",
   "execution_count": 63,
   "id": "82530b36-632b-4744-be00-744fb217de17",
   "metadata": {},
   "outputs": [],
   "source": [
    "# Definindo os limites e Rótulos das Faixas Etárias.\n",
    "# Os limites serão os pontos de corte dos intervalos.\n",
    "# O primeiro limete deve ser o mínimo possível e o último o máximo possível da sua idade.\n",
    "bins = [0, 18, 25, 35, 45, 55, 65, 75, 86] # Idades (o limite superior é exclusivo por padrão)\n",
    "# 0s rótulos devem ter um a menos que o número de bins\n",
    "# Serão os nomes das categorias\n",
    "labels = ['0-17', '18-25', '26-35', '36-45', '46-55', '56-65', '66-75', '76-86']"
   ]
  },
  {
   "cell_type": "code",
   "execution_count": 64,
   "id": "c51b6005-330c-4f39-b8bc-7e292be47a49",
   "metadata": {},
   "outputs": [],
   "source": [
    "# Criando a nova coluna 'Faixa_etaria' usando pd.cut()\n",
    "df_l['Faixa_etaria'] = pd.cut(df_l['Idade_Atual'],\n",
    "                             bins=bins,\n",
    "                             labels=labels,\n",
    "                             right=True,\n",
    "                             ordered=True)"
   ]
  },
  {
   "cell_type": "code",
   "execution_count": 67,
   "id": "2aee15a6-e2bb-4a92-b755-ec61eb9b80b2",
   "metadata": {},
   "outputs": [
    {
     "data": {
      "text/plain": [
       "<Figure size 1200x700 with 0 Axes>"
      ]
     },
     "metadata": {},
     "output_type": "display_data"
    }
   ],
   "source": [
    "# Criando um histograma com os dados da nova variável 'Faixa_etaria'.\n",
    "plt.figure(figsize=(12, 7))\n",
    "sns.set_style(\"whitegrid\")"
   ]
  },
  {
   "cell_type": "code",
   "execution_count": 81,
   "id": "900e8e55-ee9d-4975-aadb-13f07dce9343",
   "metadata": {},
   "outputs": [
    {
     "data": {
      "image/png": "[encoded data removed]",
      "text/plain": [
       "<Figure size 640x480 with 1 Axes>"
      ]
     },
     "metadata": {},
     "output_type": "display_data"
    }
   ],
   "source": [
    "# Usando o sns.histplot com a nova variável categórica\n",
    "# O parâmetro bins não é mais necessário pois o seaborn usa as categorias existentes\n",
    "# shrik ajusta a largura das barras para criar espaço entre elas\n",
    "#hue: se você quiser dividir por outra categoria (ex: gênero)\n",
    "sns.histplot(data=df_l, x='Faixa_etaria',\n",
    "            edgecolor='black', color='teal', shrink=0.8)\n",
    "\n",
    "plt.title('Distribuição de Associados ABED', fontsize=18, pad=20)\n",
    "plt.xlabel('Faixa Etária (Anos)', fontsize=14)\n",
    "plt.ylabel('Número de Associados', fontsize=14)\n",
    "plt.xticks(rotation=45, ha='right', fontsize=12)\n",
    "plt.yticks(fontsize=12)\n",
    "plt.grid(axis='y', linestyle='--', alpha=0.7)\n",
    "plt.savefig('Distribuição_Associado_ABED.png', dpi=300, bbox_inches='tight')"
   ]
  },
  {
   "cell_type": "code",
   "execution_count": null,
   "id": "fa578595-f102-4471-9616-bbacec130c62",
   "metadata": {},
   "outputs": [],
   "source": []
  }
 ],
 "metadata": {
  "kernelspec": {
   "display_name": "Python 3 (ipykernel)",
   "language": "python",
   "name": "python3"
  },
  "language_info": {
   "codemirror_mode": {
    "name": "ipython",
    "version": 3
   },
   "file_extension": ".py",
   "mimetype": "text/x-python",
   "name": "python",
   "nbconvert_exporter": "python",
   "pygments_lexer": "ipython3",
   "version": "3.12.7"
  }
 },
 "nbformat": 4,
 "nbformat_minor": 5
}
