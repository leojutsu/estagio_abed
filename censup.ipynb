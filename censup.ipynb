{
 "cells": [
  {
   "cell_type": "code",
   "execution_count": 1,
   "id": "64508027-6ab9-4eb7-a7db-aef4117bcfa4",
   "metadata": {},
   "outputs": [],
   "source": [
    "#!pip install -q -U watermark"
   ]
  },
  {
   "cell_type": "code",
   "execution_count": 2,
   "id": "a7b5e73c-2ebd-4569-8ffa-8136e4baacf2",
   "metadata": {},
   "outputs": [],
   "source": [
    "import pandas as pd\n",
    "import numpy as np\n",
    "import matplotlib.pyplot as plt\n",
    "import seaborn as sns\n",
    "import chardet\n",
    "import sys, os"
   ]
  },
  {
   "cell_type": "code",
   "execution_count": 3,
   "id": "dc0ebd84-828b-4c61-8a3d-d85e26d22537",
   "metadata": {},
   "outputs": [
    {
     "name": "stdout",
     "output_type": "stream",
     "text": [
      "Author: Leonardo da Silva Neves\n",
      "\n"
     ]
    }
   ],
   "source": [
    "%reload_ext watermark\n",
    "%watermark -a \"Leonardo da Silva Neves\""
   ]
  },
  {
   "cell_type": "code",
   "execution_count": 4,
   "id": "687af68a-cc12-4bff-9985-418ceec8aafd",
   "metadata": {},
   "outputs": [],
   "source": [
    "# Carregando DataFrames das edições do censo da educação superior.\n",
    "censo_23 = 'censup/MICRODADOS_CADASTRO_CURSOS_2023.CSV'\n",
    "censo_22 = 'censup/MICRODADOS_CADASTRO_CURSOS_2022.CSV'\n",
    "censo_21 = 'censup/MICRODADOS_CADASTRO_CURSOS_2021.CSV'\n",
    "censo_20 = 'censup/MICRODADOS_CADASTRO_CURSOS_2020.CSV' \n",
    "censo_19 = 'censup/MICRODADOS_CADASTRO_CURSOS_2019.CSV'\n",
    "censo_18 = 'censup/MICRODADOS_CADASTRO_CURSOS_2018.CSV'\n",
    "censo_17 = 'censup/MICRODADOS_CADASTRO_CURSOS_2017.CSV'\n",
    "censo_16 = 'censup/MICRODADOS_CADASTRO_CURSOS_2016.CSV'\n",
    "censo_15 = 'censup/MICRODADOS_CADASTRO_CURSOS_2015.CSV'\n",
    "censo_14 = 'censup/MICRODADOS_CADASTRO_CURSOS_2013.CSV'\n",
    "censo_13 = 'censup/MICRODADOS_CADASTRO_CURSOS_2013.CSV'\n",
    "censo_12 = 'censup/MICRODADOS_CADASTRO_CURSOS_2012.CSV'\n",
    "censo_11 = 'censup/MICRODADOS_CADASTRO_CURSOS_2011.CSV'\n",
    "censo_10 = 'censup/MICRODADOS_CADASTRO_CURSOS_2010.CSV'"
   ]
  },
  {
   "cell_type": "code",
   "execution_count": 5,
   "id": "b992f401-12c1-410e-9cc7-cdb99ecb21d4",
   "metadata": {},
   "outputs": [],
   "source": [
    "# Abrindo o arquivo como tipo binário 'rb' - 'read binary'\n",
    "with open(censo_20, 'rb') as f1:\n",
    "    raw_data_23 = f1.read(1000000)"
   ]
  },
  {
   "cell_type": "code",
   "execution_count": 6,
   "id": "9de06bb6-f25f-4fc9-902c-fb22a474758a",
   "metadata": {},
   "outputs": [
    {
     "name": "stdout",
     "output_type": "stream",
     "text": [
      "codificação detectada: ISO-8859-1 (confiança: 0.73%)\n"
     ]
    }
   ],
   "source": [
    "# Descobrindo a codificação do dataset com o método .detect() da biblioteca chardet.\n",
    "result_23 = chardet.detect(raw_data_23)\n",
    "cod_23 = result_23['encoding']\n",
    "conf_23 = result_23['confidence']\n",
    "print(f'codificação detectada: {cod_23} (confiança: {conf_23:.2f}%)')"
   ]
  },
  {
   "cell_type": "code",
   "execution_count": 7,
   "id": "4229f253-f6bc-42ab-ba43-96d7fa9306c3",
   "metadata": {},
   "outputs": [],
   "source": [
    "# Carregando o DataFrame em uma variável.\n",
    "df_23 = pd.read_csv(censo_23, sep=';', encoding=cod_23, low_memory=False, decimal=',')"
   ]
  },
  {
   "cell_type": "code",
   "execution_count": 8,
   "id": "6dca7b4c-f150-4a47-aef9-c6501b956493",
   "metadata": {},
   "outputs": [],
   "source": [
    "df_22 = pd.read_csv(censo_22, sep=';', encoding=cod_23, low_memory=False, decimal=',')"
   ]
  },
  {
   "cell_type": "code",
   "execution_count": 9,
   "id": "e1505ab5-8f8d-4771-902c-405cf7f9cd1d",
   "metadata": {},
   "outputs": [],
   "source": [
    "df_21 = pd.read_csv(censo_21, sep=';', encoding=cod_23, low_memory=False, decimal=',')"
   ]
  },
  {
   "cell_type": "code",
   "execution_count": 10,
   "id": "002da486-86b3-4eda-ac57-15778f483f27",
   "metadata": {},
   "outputs": [],
   "source": [
    "df_20 = pd.read_csv(censo_20, sep=';', encoding=cod_23, low_memory=False, decimal=',')"
   ]
  },
  {
   "cell_type": "code",
   "execution_count": 11,
   "id": "76adf998-9201-48f3-9f8c-5eeee263653a",
   "metadata": {},
   "outputs": [],
   "source": [
    "df_19 = pd.read_csv(censo_19, sep=';', encoding=cod_23, low_memory=False, decimal=',')"
   ]
  },
  {
   "cell_type": "code",
   "execution_count": 12,
   "id": "07f2b744-f064-4509-a855-1d6637aeb69b",
   "metadata": {},
   "outputs": [],
   "source": [
    "df_18 = pd.read_csv(censo_18, sep=';', encoding=cod_23, low_memory=False, decimal=',')"
   ]
  },
  {
   "cell_type": "code",
   "execution_count": 13,
   "id": "d887be56-af18-4c79-a86f-f3605953e91d",
   "metadata": {},
   "outputs": [],
   "source": [
    "df_17 = pd.read_csv(censo_17, sep=';', encoding=cod_23, low_memory=False, decimal=',')"
   ]
  },
  {
   "cell_type": "code",
   "execution_count": 14,
   "id": "d4d1323c-0355-40ed-a529-2125119a46f7",
   "metadata": {},
   "outputs": [],
   "source": [
    "df_16 = pd.read_csv(censo_16, sep=';', encoding=cod_23, low_memory=False, decimal=',')"
   ]
  },
  {
   "cell_type": "code",
   "execution_count": 15,
   "id": "d418ca60-9b67-4dca-b778-10f1747ed704",
   "metadata": {},
   "outputs": [],
   "source": [
    "df_15 = pd.read_csv(censo_15, sep=';', encoding=cod_23, low_memory=False, decimal=',')"
   ]
  },
  {
   "cell_type": "code",
   "execution_count": 16,
   "id": "656e3d8c-073d-44aa-a9bd-26d2ff9e7900",
   "metadata": {},
   "outputs": [],
   "source": [
    "df_14 = pd.read_csv(censo_14, sep=';', encoding=cod_23, low_memory=False, decimal=',')"
   ]
  },
  {
   "cell_type": "code",
   "execution_count": 17,
   "id": "17504062-e9d5-41c2-ad22-c9d48975fe88",
   "metadata": {},
   "outputs": [],
   "source": [
    "df_13 = pd.read_csv(censo_13, sep=';', encoding=cod_23, low_memory=False, decimal=',')"
   ]
  },
  {
   "cell_type": "code",
   "execution_count": 18,
   "id": "12c25421-649c-4635-af05-88d2dd188ff9",
   "metadata": {},
   "outputs": [],
   "source": [
    "df_12 = pd.read_csv(censo_12, sep=';', encoding=cod_23, low_memory=False, decimal=',')"
   ]
  },
  {
   "cell_type": "code",
   "execution_count": 19,
   "id": "e4daaec5-880f-4f4f-a528-1192f11a7789",
   "metadata": {},
   "outputs": [],
   "source": [
    "df_11 = pd.read_csv(censo_11, sep=';', encoding=cod_23, low_memory=False, decimal=',')"
   ]
  },
  {
   "cell_type": "code",
   "execution_count": 20,
   "id": "c74e95d9-0294-465b-8e8b-d0939555ec96",
   "metadata": {},
   "outputs": [],
   "source": [
    "df_10 = pd.read_csv(censo_10, sep=';', encoding=cod_23, low_memory=False, decimal=',')"
   ]
  },
  {
   "cell_type": "markdown",
   "id": "f786689b-ccca-424b-a9db-25c2fd1b0d55",
   "metadata": {},
   "source": [
    "### Identificando as colunas que são comuns a todos os DataFrames e, em seguida, manter apenas essas colunas em cada um deles.\n",
    "Este procedimento garante que, ao concatenar, você não serão mostradas colunas com valores 'NaN'."
   ]
  },
  {
   "cell_type": "code",
   "execution_count": 21,
   "id": "f6d67dcd-a5df-4543-96e0-92aa20bb9bac",
   "metadata": {},
   "outputs": [],
   "source": [
    "# 1.1 Encontrando as colunas comuns\n",
    "# Carregando os dfs em uma lista\n",
    "dfs = [df_10, df_11, df_12, df_13, df_14, df_15, df_16, df_17, df_18, df_19, df_20, df_21, df_22, df_23]"
   ]
  },
  {
   "cell_type": "code",
   "execution_count": 22,
   "id": "784687cf-9494-4b5d-84e3-64666dd1a631",
   "metadata": {},
   "outputs": [],
   "source": [
    "# 1.2 Pegando convertendo a lista de colunas de cada df para o tipo set()\n",
    "colunas_10 = set(dfs[0].columns)\n",
    "colunas_11 = set(dfs[1].columns)\n",
    "colunas_12 = set(dfs[2].columns)\n",
    "colunas_13 = set(dfs[3].columns)\n",
    "colunas_14 = set(dfs[4].columns)\n",
    "colunas_15 = set(dfs[5].columns)\n",
    "colunas_16 = set(dfs[6].columns)\n",
    "colunas_17 = set(dfs[7].columns)\n",
    "colunas_18 = set(dfs[8].columns)\n",
    "colunas_19 = set(dfs[9].columns)\n",
    "colunas_20 = set(dfs[10].columns)\n",
    "colunas_21 = set(dfs[11].columns)\n",
    "colunas_22 = set(dfs[12].columns)\n",
    "colunas_23 = set(dfs[13].columns)"
   ]
  },
  {
   "cell_type": "code",
   "execution_count": 23,
   "id": "ff08d607-5789-4e1a-82a6-02fce48993ce",
   "metadata": {},
   "outputs": [],
   "source": [
    "# Encontra a interseção de todas as colunas\n",
    "# O resultado será um conjunto de colunas presentes em todos os DataFrames\n",
    "colunas_comuns = colunas_10.intersection(colunas_11).intersection(colunas_12).intersection(colunas_13).intersection(colunas_14).intersection(colunas_15).intersection(colunas_16).intersection(colunas_17).intersection(colunas_18).intersection(colunas_19).intersection(colunas_20).intersection(colunas_21).intersection(colunas_22).intersection(colunas_23)"
   ]
  },
  {
   "cell_type": "code",
   "execution_count": 24,
   "id": "e2f1ebf8-d730-4e6a-b149-f66a64d0aade",
   "metadata": {},
   "outputs": [],
   "source": [
    "# Converte o conjunto de volta para o formato de lista\n",
    "colunas_comuns_lista = list(colunas_comuns)"
   ]
  },
  {
   "cell_type": "code",
   "execution_count": 25,
   "id": "81068993-4fc8-4e1b-9d5e-9047005dd492",
   "metadata": {},
   "outputs": [
    {
     "name": "stdout",
     "output_type": "stream",
     "text": [
      "Número total de colunas em 2010: 200\n",
      "Número total de colunas em 2011: 200\n",
      "Número total de colunas em 2012: 200\n",
      "Número total de colunas em 2013: 200\n",
      "Número total de colunas em 2014: 200\n",
      "Número total de colunas em 2015: 200\n",
      "Número total de colunas em 2016: 200\n",
      "Número total de colunas em 2017: 200\n",
      "Número total de colunas em 2018: 200\n",
      "Número total de colunas em 2019: 200\n",
      "Número total de colunas em 2020: 200\n",
      "Número total de colunas em 2021: 200\n",
      "Número total de colunas em 2022: 200\n",
      "Número total de colunas em 2023: 202\n",
      "Número de colunas comuns 199\n"
     ]
    }
   ],
   "source": [
    "print(f\"Número total de colunas em 2010: {len(colunas_10)}\")\n",
    "print(f\"Número total de colunas em 2011: {len(colunas_11)}\")\n",
    "print(f\"Número total de colunas em 2012: {len(colunas_12)}\")\n",
    "print(f\"Número total de colunas em 2013: {len(colunas_13)}\")\n",
    "print(f\"Número total de colunas em 2014: {len(colunas_14)}\")\n",
    "print(f\"Número total de colunas em 2015: {len(colunas_15)}\")\n",
    "print(f\"Número total de colunas em 2016: {len(colunas_16)}\")\n",
    "print(f\"Número total de colunas em 2017: {len(colunas_17)}\")\n",
    "print(f\"Número total de colunas em 2018: {len(colunas_18)}\")\n",
    "print(f\"Número total de colunas em 2019: {len(colunas_19)}\")\n",
    "print(f\"Número total de colunas em 2020: {len(colunas_20)}\")\n",
    "print(f\"Número total de colunas em 2021: {len(colunas_21)}\")\n",
    "print(f\"Número total de colunas em 2022: {len(colunas_22)}\")\n",
    "print(f\"Número total de colunas em 2023: {len(colunas_23)}\")\n",
    "print(f\"Número de colunas comuns {len(colunas_comuns)}\")"
   ]
  },
  {
   "cell_type": "code",
   "execution_count": 26,
   "id": "13decbf6-3e73-4eea-8b8c-3802afe7a8c8",
   "metadata": {},
   "outputs": [],
   "source": [
    "# Iterando sobre a lista de DataFrames\n",
    "dfs_padronizados = []\n",
    "for df_ano in dfs:\n",
    "    # Selecionar apenas as colunas comuns para cada DataFrame\n",
    "    df_padronizado = df_ano[colunas_comuns_lista]\n",
    "    dfs_padronizados.append(df_padronizado)\n",
    "\n",
    "# Concatenando os DataFrames padronizados em um único DataFrame final\n",
    "df_completo_padronizado = pd.concat(dfs_padronizados, ignore_index=True)"
   ]
  },
  {
   "cell_type": "code",
   "execution_count": 27,
   "id": "fbe21e81-be00-4e50-b89a-15f9881784ae",
   "metadata": {},
   "outputs": [
    {
     "data": {
      "text/plain": [
       "(3071995, 199)"
      ]
     },
     "execution_count": 27,
     "metadata": {},
     "output_type": "execute_result"
    }
   ],
   "source": [
    "df_completo_padronizado.shape"
   ]
  },
  {
   "cell_type": "code",
   "execution_count": 28,
   "id": "21770e33-fb58-4b70-a320-8e7958ab8c73",
   "metadata": {},
   "outputs": [],
   "source": [
    "# Criando um df apenas com os cursos da modalidade EaD\n",
    "df_censo_ead = df_completo_padronizado[df_completo_padronizado['TP_MODALIDADE_ENSINO'] == 2].copy()"
   ]
  },
  {
   "cell_type": "code",
   "execution_count": 30,
   "id": "f3be90ca-1037-4917-9f04-7528ed6a285f",
   "metadata": {},
   "outputs": [
    {
     "data": {
      "text/plain": [
       "(2606157, 199)"
      ]
     },
     "execution_count": 30,
     "metadata": {},
     "output_type": "execute_result"
    }
   ],
   "source": [
    "df_censo_ead.shape"
   ]
  },
  {
   "cell_type": "code",
   "execution_count": 32,
   "id": "3cb32035-a015-4623-8b0a-f12c7433478e",
   "metadata": {},
   "outputs": [],
   "source": [
    "# Substuindo valores da variável 'TP_MODALIDADE_ENSINO'\n",
    "df_censo_ead['TP_MODALIDADE_ENSINO'] = df_censo_ead['TP_MODALIDADE_ENSINO'].replace(2, 'EaD')"
   ]
  },
  {
   "cell_type": "code",
   "execution_count": 33,
   "id": "3cc00eea-c12e-4e04-a27c-cace7021dde5",
   "metadata": {},
   "outputs": [],
   "source": [
    "# Alterando o parâmetro máximo de visualizações de colunas\n",
    "pd.set_option('display.max_columns', 202)"
   ]
  },
  {
   "cell_type": "code",
   "execution_count": 34,
   "id": "41a16d63-8571-4c2e-b5b2-77a5b1aeaa3b",
   "metadata": {},
   "outputs": [],
   "source": [
    "df_censo_ead['NU_ANO_CENSO'] = pd.to_datetime(df_censo_ead['NU_ANO_CENSO'], format='%Y')"
   ]
  },
  {
   "cell_type": "code",
   "execution_count": 35,
   "id": "95d5d204-79bb-432a-bb92-a33d1df1f784",
   "metadata": {},
   "outputs": [],
   "source": [
    "# Selecionando apenas colunas com valores numéricos\n",
    "colunas_quantidade = [col for col in df_censo_ead.columns if col.startswith('QT_')]"
   ]
  },
  {
   "cell_type": "code",
   "execution_count": 36,
   "id": "b889c990-e765-4334-81d4-88b960b35c2d",
   "metadata": {},
   "outputs": [],
   "source": [
    "# Preechendo os valores nulos (NaN) para evitar erros nas operações matemáricas, usando 0 nas colunas de contagem\n",
    "df_censo_ead[colunas_quantidade] = df_censo_ead[colunas_quantidade].fillna(0)"
   ]
  },
  {
   "cell_type": "code",
   "execution_count": 37,
   "id": "9bdfc987-a083-42e3-909c-2b7bd3bd9300",
   "metadata": {},
   "outputs": [
    {
     "data": {
      "text/plain": [
       "NO_CINE_AREA_GERAL\n",
       "Negócios, administração e direito                             900467\n",
       "Educação                                                      654308\n",
       "Computação e Tecnologias da Informação e Comunicação (TIC)    223147\n",
       "Saúde e bem-estar                                             206051\n",
       "Engenharia, produção e construção                             193567\n",
       "Serviços                                                      167611\n",
       "Artes e humanidades                                           121959\n",
       "Ciências sociais, comunicação e informação                     87043\n",
       "Ciências naturais, matemática e estatística                    28183\n",
       "Agricultura, silvicultura, pesca e veterinária                 21325\n",
       "Programas básicos                                               2496\n",
       "Name: count, dtype: int64"
      ]
     },
     "execution_count": 37,
     "metadata": {},
     "output_type": "execute_result"
    }
   ],
   "source": [
    "df_censo_ead['NO_CINE_AREA_GERAL'].value_counts()"
   ]
  },
  {
   "cell_type": "code",
   "execution_count": 38,
   "id": "17f389e2-7219-4678-b59a-2c7734b6ac75",
   "metadata": {},
   "outputs": [
    {
     "data": {
      "text/plain": [
       "NO_CINE_AREA_ESPECIFICA\n",
       "Negócios e administração                                                                                     866762\n",
       "Educação                                                                                                     650185\n",
       "Computação e Tecnologias da Informação e Comunicação (TIC)                                                   220964\n",
       "Saúde                                                                                                        135731\n",
       "Engenharia e profissões correlatas                                                                           117670\n",
       "Artes                                                                                                         72023\n",
       "Serviços de segurança                                                                                         72015\n",
       "Bem-estar                                                                                                     68103\n",
       "Serviços pessoais                                                                                             67535\n",
       "Ciências sociais e comportamentais                                                                            54950\n",
       "Produção e processamento                                                                                      43765\n",
       "Humanidades (exceto línguas)                                                                                  42843\n",
       "Arquitetura e construção                                                                                      32132\n",
       "Direito                                                                                                       28899\n",
       "Comunicação e informação                                                                                      22701\n",
       "Higiene e serviços de saúde ocupacional                                                                       22457\n",
       "Agricultura                                                                                                   20764\n",
       "Ciências físicas                                                                                              10808\n",
       "Ciências biológicas e correlatas                                                                               8739\n",
       "Línguas                                                                                                        7093\n",
       "Matemática e estatística                                                                                       6366\n",
       "Programas abrangendo ciências sociais, comunicação e informação em processo de definição da classificação      5251\n",
       "Serviços de transporte                                                                                         5222\n",
       "Programas interdisciplinares abrangendo negócios, administração e direito                                      4806\n",
       "Programas interdisciplinares abrangendo ciências sociais, comunicação e informação                             4141\n",
       "Programas interdisciplinares abrangendo educação                                                               3987\n",
       "Programas básicos                                                                                              2496\n",
       "Programas interdisciplinares abrangendo ciências naturais, matemática e estatística                            2270\n",
       "Programas interdisciplinares abrangendo saúde e bem-estar                                                      2217\n",
       "Programas interdisciplinares abrangendo computação e Tecnologias da Informação e Comunicação (TIC)             2183\n",
       "Veterinária                                                                                                     561\n",
       "Programas interdisciplinares abrangendo serviços                                                                382\n",
       "Programas abrangendo educação em processo de definição da classificação                                         136\n",
       "Name: count, dtype: int64"
      ]
     },
     "execution_count": 38,
     "metadata": {},
     "output_type": "execute_result"
    }
   ],
   "source": [
    "df_censo_ead['NO_CINE_AREA_ESPECIFICA'].value_counts()"
   ]
  },
  {
   "cell_type": "code",
   "execution_count": 39,
   "id": "ff9ba295-c299-46cf-bcbd-2f01cfab6f16",
   "metadata": {},
   "outputs": [
    {
     "data": {
      "text/plain": [
       "NO_CINE_AREA_DETALHADA\n",
       "Gestão e administração                                                     526672\n",
       "Formação de professores em áreas específicas (exceto Letras)               373903\n",
       "Formação de professores sem áreas específicas                              131006\n",
       "Formação de professores de letras                                          127538\n",
       "Marketing e propaganda                                                     102316\n",
       "                                                                            ...  \n",
       "Programas interdisciplinares abrangendo serviços                              382\n",
       "Mineração e extração                                                          191\n",
       "Programas abrangendo educação em processo de definição da classificação       136\n",
       "Medicina                                                                       67\n",
       "Engenharia e profissões correlatas sem definição precisa                       43\n",
       "Name: count, Length: 76, dtype: int64"
      ]
     },
     "execution_count": 39,
     "metadata": {},
     "output_type": "execute_result"
    }
   ],
   "source": [
    "df_censo_ead['NO_CINE_AREA_DETALHADA'].value_counts()"
   ]
  },
  {
   "cell_type": "markdown",
   "id": "a924effa-335a-4a47-ad64-ec2f57cc01af",
   "metadata": {},
   "source": [
    "### 1. Métricas de Conclusão e Evasão\n",
    "Métricas importantes para entender a eficiência e retenção dos cursos."
   ]
  },
  {
   "cell_type": "code",
   "execution_count": 40,
   "id": "b1b71f01-faa3-4b32-b0c9-3885dfea8cd2",
   "metadata": {},
   "outputs": [
    {
     "data": {
      "text/plain": [
       "18863585.0"
      ]
     },
     "execution_count": 40,
     "metadata": {},
     "output_type": "execute_result"
    }
   ],
   "source": [
    "df_censo_ead['QT_ING'].sum()"
   ]
  },
  {
   "cell_type": "code",
   "execution_count": 42,
   "id": "442ab2d3-c86a-4c40-a1cd-2f941916d743",
   "metadata": {},
   "outputs": [
    {
     "data": {
      "text/plain": [
       "NU_ANO_CENSO\n",
       "2023-01-01    3314402.0\n",
       "2022-01-01    3100556.0\n",
       "2021-01-01    2477374.0\n",
       "2020-01-01    2008979.0\n",
       "2019-01-01    1592184.0\n",
       "2018-01-01    1373321.0\n",
       "2017-01-01    1073497.0\n",
       "2013-01-01    1030820.0\n",
       "2016-01-01     843181.0\n",
       "2015-01-01     694559.0\n",
       "2012-01-01     542696.0\n",
       "2011-01-01     431631.0\n",
       "2010-01-01     380385.0\n",
       "Name: QT_ING, dtype: float64"
      ]
     },
     "execution_count": 42,
     "metadata": {},
     "output_type": "execute_result"
    }
   ],
   "source": [
    "df_censo_ead.groupby('NU_ANO_CENSO')['QT_ING'].sum().sort_values(ascending=False)"
   ]
  },
  {
   "cell_type": "code",
   "execution_count": 43,
   "id": "73fc3dc8-6dc9-40b4-bd82-13950aeeb946",
   "metadata": {},
   "outputs": [
    {
     "data": {
      "text/plain": [
       "NU_ANO_CENSO\n",
       "2023-01-01    4913281.0\n",
       "2022-01-01    4330934.0\n",
       "2021-01-01    3716370.0\n",
       "2020-01-01    3105803.0\n",
       "2019-01-01    2450265.0\n",
       "2013-01-01    2307280.0\n",
       "2018-01-01    2056559.0\n",
       "2017-01-01    1759250.0\n",
       "2016-01-01    1494427.0\n",
       "2015-01-01    1393780.0\n",
       "2012-01-01    1113958.0\n",
       "2011-01-01     993062.0\n",
       "2010-01-01     930920.0\n",
       "Name: QT_MAT, dtype: float64"
      ]
     },
     "execution_count": 43,
     "metadata": {},
     "output_type": "execute_result"
    }
   ],
   "source": [
    "df_censo_ead.groupby('NU_ANO_CENSO')['QT_MAT'].sum().sort_values(ascending=False)"
   ]
  },
  {
   "cell_type": "code",
   "execution_count": 45,
   "id": "78c906cd-f821-4ce8-ab5b-5f8ca6a0f8e3",
   "metadata": {},
   "outputs": [
    {
     "data": {
      "text/plain": [
       "NU_ANO_CENSO\n",
       "2023-01-01    591284.0\n",
       "2021-01-01    485141.0\n",
       "2022-01-01    483834.0\n",
       "2020-01-01    400393.0\n",
       "2013-01-01    322196.0\n",
       "2019-01-01    316040.0\n",
       "2018-01-01    273921.0\n",
       "2017-01-01    252735.0\n",
       "2015-01-01    233723.0\n",
       "2016-01-01    230718.0\n",
       "2012-01-01    174334.0\n",
       "2011-01-01    151629.0\n",
       "2010-01-01    144856.0\n",
       "Name: QT_CONC, dtype: float64"
      ]
     },
     "execution_count": 45,
     "metadata": {},
     "output_type": "execute_result"
    }
   ],
   "source": [
    "df_censo_ead.groupby('NU_ANO_CENSO')['QT_CONC'].sum().sort_values(ascending=False)"
   ]
  },
  {
   "cell_type": "code",
   "execution_count": 46,
   "id": "a0fbe3f1-a029-4e9c-8a0a-cddf05c5d57b",
   "metadata": {},
   "outputs": [
    {
     "data": {
      "text/plain": [
       "NU_ANO_CENSO  TP_REDE\n",
       "2010-01-01    1.0          40174.0\n",
       "              2.0         340211.0\n",
       "2011-01-01    1.0          34045.0\n",
       "              2.0         397586.0\n",
       "2012-01-01    1.0          48527.0\n",
       "              2.0         494169.0\n",
       "2013-01-01    1.0              0.0\n",
       "              2.0              0.0\n",
       "2015-01-01    1.0          30323.0\n",
       "              2.0         664236.0\n",
       "2016-01-01    1.0          24490.0\n",
       "              2.0         818691.0\n",
       "2017-01-01    1.0          86965.0\n",
       "              2.0         986532.0\n",
       "2018-01-01    1.0          62643.0\n",
       "              2.0        1310678.0\n",
       "2019-01-01    1.0          32459.0\n",
       "              2.0        1559725.0\n",
       "2020-01-01    1.0          48300.0\n",
       "              2.0        1960679.0\n",
       "2021-01-01    1.0          42422.0\n",
       "              2.0        2434952.0\n",
       "2022-01-01    1.0          67938.0\n",
       "              2.0        3032618.0\n",
       "2023-01-01    1.0          87511.0\n",
       "              2.0        3226891.0\n",
       "Name: QT_ING, dtype: float64"
      ]
     },
     "execution_count": 46,
     "metadata": {},
     "output_type": "execute_result"
    }
   ],
   "source": [
    "df_censo_ead.groupby(['NU_ANO_CENSO', 'TP_REDE'])['QT_ING'].sum()"
   ]
  },
  {
   "cell_type": "code",
   "execution_count": 37,
   "id": "09624c79-2486-45b1-a943-06fecb9adb2a",
   "metadata": {},
   "outputs": [
    {
     "data": {
      "text/plain": [
       "NU_ANO_CENSO  NO_REGIAO   \n",
       "2023-01-01    Sudeste         128572\n",
       "2022-01-01    Sudeste         109540\n",
       "2021-01-01    Sudeste          77013\n",
       "2020-01-01    Sudeste          62882\n",
       "2023-01-01    Nordeste         40171\n",
       "2022-01-01    Nordeste         37051\n",
       "2021-01-01    Nordeste         26876\n",
       "2020-01-01    Nordeste         25095\n",
       "2023-01-01    Sul              24055\n",
       "2022-01-01    Sul              23095\n",
       "2021-01-01    Sul              19575\n",
       "2023-01-01    Centro-Oeste     18485\n",
       "2022-01-01    Centro-Oeste     18015\n",
       "2020-01-01    Sul              15130\n",
       "2021-01-01    Centro-Oeste     14115\n",
       "2022-01-01    Norte            11204\n",
       "2023-01-01    Norte            10853\n",
       "2020-01-01    Centro-Oeste     10704\n",
       "2021-01-01    Norte             8612\n",
       "2020-01-01    Norte             7372\n",
       "Name: QT_ING_PRETA, dtype: int64"
      ]
     },
     "execution_count": 37,
     "metadata": {},
     "output_type": "execute_result"
    }
   ],
   "source": [
    "df_ead_geral.groupby(['NU_ANO_CENSO', 'NO_REGIAO'])['QT_ING_PRETA'].sum().sort_values(ascending=False)"
   ]
  },
  {
   "cell_type": "code",
   "execution_count": 41,
   "id": "158d4543-4ee5-49d6-8518-be96142f058e",
   "metadata": {},
   "outputs": [
    {
     "data": {
      "text/plain": [
       "1417"
      ]
     },
     "execution_count": 41,
     "metadata": {},
     "output_type": "execute_result"
    }
   ],
   "source": [
    "df_ead_geral['TP_GRAU_ACADEMICO'].isna().sum()"
   ]
  },
  {
   "cell_type": "code",
   "execution_count": 42,
   "id": "fd842468-1ee9-4276-86a2-6aaba96825b8",
   "metadata": {},
   "outputs": [
    {
     "data": {
      "text/plain": [
       "TP_GRAU_ACADEMICO\n",
       "3.0    919145\n",
       "1.0    561054\n",
       "2.0    407716\n",
       "0.0      1083\n",
       "Name: count, dtype: int64"
      ]
     },
     "execution_count": 42,
     "metadata": {},
     "output_type": "execute_result"
    }
   ],
   "source": [
    "df_ead_geral['TP_GRAU_ACADEMICO'].value_counts()"
   ]
  },
  {
   "cell_type": "code",
   "execution_count": null,
   "id": "c4a8422d-412b-4a6b-a1b2-8133b60ee0bd",
   "metadata": {},
   "outputs": [],
   "source": []
  }
 ],
 "metadata": {
  "kernelspec": {
   "display_name": "Python 3 (ipykernel)",
   "language": "python",
   "name": "python3"
  },
  "language_info": {
   "codemirror_mode": {
    "name": "ipython",
    "version": 3
   },
   "file_extension": ".py",
   "mimetype": "text/x-python",
   "name": "python",
   "nbconvert_exporter": "python",
   "pygments_lexer": "ipython3",
   "version": "3.12.7"
  }
 },
 "nbformat": 4,
 "nbformat_minor": 5
}
